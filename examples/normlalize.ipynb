{
 "cells": [
  {
   "cell_type": "code",
   "execution_count": 1,
   "metadata": {},
   "outputs": [],
   "source": [
    "import numpy as np\n",
    "import xarray as xr\n",
    "import torch\n",
    "from torch.utils.data import Dataset, DataLoader\n",
    "\n",
    "import matplotlib.pyplot as plt\n",
    "\n",
    "from data.transform import Normalize\n",
    "\n",
    "def print_ms(x):\n",
    "    \"\"\"Print mean and std.\"\"\"\n",
    "    if not isinstance(x, dict):\n",
    "        x = {'x': x}\n",
    "    for key, val in x.items():\n",
    "        print(f'{key}: mean={val.mean()}, std={val.std()}')"
   ]
  },
  {
   "cell_type": "code",
   "execution_count": 2,
   "metadata": {},
   "outputs": [
    {
     "name": "stdout",
     "output_type": "stream",
     "text": [
      "<xarray.Dataset>\n",
      "Dimensions:  (site: 3, time: 500)\n",
      "Coordinates:\n",
      "  * time     (time) int64 0 1 2 3 4 5 6 7 8 ... 492 493 494 495 496 497 498 499\n",
      "  * site     (site) <U2 'S0' 'S1' 'S2'\n",
      "Data variables:\n",
      "    x0       (time, site) float32 -16.22 -6.244 1.891 ... 7.109 -3.053 8.895\n",
      "    x1       (time, site) float32 1.185 -7.624 -5.375 ... -15.43 -16.2 1.81\n",
      "    x2       (time, site) float32 -17.07 -1.175 -12.18 ... 0.8758 3.789 5.551\n"
     ]
    }
   ],
   "source": [
    "# Craete dummy xarray data.\n",
    "\n",
    "seq_len = 500\n",
    "num_sites = 3\n",
    "ds = xr.Dataset()\n",
    "for x in range(3):\n",
    "    # Random data with different mean (=x)\n",
    "    ds[f'x{x}'] = xr.DataArray(np.random.normal(loc=x, scale=10., size=(seq_len, num_sites)).astype('float32'), dims=['time', 'site'], coords={'time': range(seq_len), 'site': [f'S{s}' for s in range(num_sites)]})\n",
    "\n",
    "print(ds)"
   ]
  },
  {
   "cell_type": "code",
   "execution_count": 3,
   "metadata": {},
   "outputs": [],
   "source": [
    "# Split into training and test set.\n",
    "\n",
    "train_ds = ds.sel(site='S0').isel(time=range(250))\n",
    "valid_ds = ds.sel(site='S0').isel(time=range(250, 500))"
   ]
  },
  {
   "cell_type": "code",
   "execution_count": 4,
   "metadata": {},
   "outputs": [
    {
     "name": "stdout",
     "output_type": "stream",
     "text": [
      "Normalize(dtype=float32)\n",
      "----------------------------------------\n",
      " * x0: 0.088 (9.569 std)\n",
      " * x1: 1.756 (11.146 std)\n",
      " * x2: 1.865 (9.238 std)\n",
      "\n"
     ]
    }
   ],
   "source": [
    "# Create a normalizer using training data.\n",
    "\n",
    "norm = Normalize()\n",
    "norm.register_dict({\n",
    "    'x0': train_ds.x0.values,\n",
    "    'x1': train_ds.x1.values,\n",
    "    'x2': train_ds.x2.values,\n",
    "})\n",
    "print(norm)"
   ]
  },
  {
   "cell_type": "code",
   "execution_count": 5,
   "metadata": {},
   "outputs": [
    {
     "name": "stdout",
     "output_type": "stream",
     "text": [
      "Normalize(dtype=float32)\n",
      "----------------------------------------\n",
      " * x0: 0.088 (9.569 std)\n",
      " * x1: 1.756 (11.146 std)\n",
      " * x2: 1.865 (9.238 std)\n",
      " * my_latent_var: 10.000 (2.000 std)\n",
      "\n"
     ]
    }
   ],
   "source": [
    "# Register manually (pass mean and std instead of data), e.g. for latent variables.\n",
    "\n",
    "norm.register_manually('my_latent_var', mean=10., std=2.)\n",
    "print(norm)"
   ]
  },
  {
   "cell_type": "code",
   "execution_count": 6,
   "metadata": {},
   "outputs": [
    {
     "data": {
      "text/plain": [
       "<matplotlib.lines.Line2D at 0x7f989d6851f0>"
      ]
     },
     "execution_count": 6,
     "metadata": {},
     "output_type": "execute_result"
    },
    {
     "data": {
      "image/png": "[encoded data removed]",
      "text/plain": [
       "<Figure size 432x288 with 1 Axes>"
      ]
     },
     "metadata": {
      "needs_background": "light"
     },
     "output_type": "display_data"
    }
   ],
   "source": [
    "# We can now scale a latent variable ~N(0, 1) to the expected range. As we set mean=10., std=2.,\n",
    "# the result should be this should be ~N(10, 2).\n",
    "\n",
    "x = np.random.normal(loc=0, scale=1, size=200)\n",
    "scaled = norm.unnormalize('my_latent_var', x)\n",
    "plt.hist(scaled, bins=15);\n",
    "plt.axvline(scaled.mean(), color='red')"
   ]
  },
  {
   "cell_type": "code",
   "execution_count": 7,
   "metadata": {},
   "outputs": [
    {
     "data": {
      "text/plain": [
       "<matplotlib.lines.Line2D at 0x7f98a1c5c280>"
      ]
     },
     "execution_count": 7,
     "metadata": {},
     "output_type": "execute_result"
    },
    {
     "data": {
      "image/png": "[encoded data removed]",
      "text/plain": [
       "<Figure size 432x288 with 1 Axes>"
      ]
     },
     "metadata": {
      "needs_background": "light"
     },
     "output_type": "display_data"
    }
   ],
   "source": [
    "# The same works with torch.Tensors:\n",
    "\n",
    "x = torch.randn(200)\n",
    "scaled = norm.unnormalize('my_latent_var', x)\n",
    "plt.hist(scaled.numpy(), bins=15);\n",
    "plt.axvline(scaled.mean(), color='red')"
   ]
  },
  {
   "cell_type": "code",
   "execution_count": 8,
   "metadata": {},
   "outputs": [],
   "source": [
    "# Build a simple pytorch dataset.\n",
    "\n",
    "class SiteData(Dataset):\n",
    "    def __init__(self, ds, dtype=np.float32):\n",
    "        super().__init__()\n",
    "        \n",
    "        self.ds = ds\n",
    "        self.dtype = dtype\n",
    "\n",
    "    def __len__(self):\n",
    "        return len(self.ds.time)\n",
    "\n",
    "    def __getitem__(self, ind):\n",
    "        d = self.ds.isel(time=ind)\n",
    "        return {\n",
    "            'x0': d['x0'].values.astype(self.dtype),\n",
    "            'x1': d['x1'].values.astype(self.dtype),\n",
    "            'x2': d['x2'].values.astype(self.dtype),\n",
    "        }\n",
    "\n",
    "data = SiteData(train_ds)"
   ]
  },
  {
   "cell_type": "code",
   "execution_count": 9,
   "metadata": {},
   "outputs": [
    {
     "name": "stdout",
     "output_type": "stream",
     "text": [
      "{'x0': array(-16.221687, dtype=float32), 'x1': array(1.1853368, dtype=float32), 'x2': array(-17.06528, dtype=float32)}\n"
     ]
    }
   ],
   "source": [
    "# Load one sample.\n",
    "\n",
    "d = data[0]\n",
    "print(d)"
   ]
  },
  {
   "cell_type": "code",
   "execution_count": 10,
   "metadata": {},
   "outputs": [
    {
     "name": "stdout",
     "output_type": "stream",
     "text": [
      "[-1.7045407  -0.05119514 -2.049146  ]\n"
     ]
    }
   ],
   "source": [
    "# Normalize sample.\n",
    "\n",
    "d_norm = norm.normalize_dict(d, return_stack=True)\n",
    "print(d_norm)"
   ]
  },
  {
   "cell_type": "code",
   "execution_count": 11,
   "metadata": {},
   "outputs": [],
   "source": [
    "# Buid a pytorch dataloader.\n",
    "\n",
    "dl = DataLoader(data, batch_size=16)\n",
    "\n",
    "# Get first batch.\n",
    "\n",
    "batch = next(iter(dl))\n",
    "\n",
    "# Access data;\n",
    "\n",
    "x0 = batch['x0']\n",
    "x1 = batch['x1']\n",
    "x2 = batch['x2']"
   ]
  },
  {
   "cell_type": "code",
   "execution_count": 12,
   "metadata": {},
   "outputs": [
    {
     "data": {
      "text/plain": [
       "tensor([True, True, True, True, True, True, True, True, True, True, True, True,\n",
       "        True, True, True, True])"
      ]
     },
     "execution_count": 12,
     "metadata": {},
     "output_type": "execute_result"
    }
   ],
   "source": [
    "# Validity check.\n",
    "\n",
    "torch.isclose(x2, norm.unnormalize('x2', norm.normalize('x2', x2)))"
   ]
  },
  {
   "cell_type": "code",
   "execution_count": 13,
   "metadata": {},
   "outputs": [
    {
     "name": "stdout",
     "output_type": "stream",
     "text": [
      "x: mean=-0.2951081395149231, std=1.0952601432800293\n"
     ]
    }
   ],
   "source": [
    "# Normalize single variable.\n",
    "\n",
    "print_ms(norm.normalize('x2', x2))"
   ]
  },
  {
   "cell_type": "code",
   "execution_count": 14,
   "metadata": {},
   "outputs": [
    {
     "name": "stdout",
     "output_type": "stream",
     "text": [
      "x0: mean=0.04550619795918465, std=1.303162693977356\n",
      "x1: mean=0.038170237094163895, std=1.0801035165786743\n",
      "x2: mean=-0.2951081395149231, std=1.0952601432800293\n"
     ]
    }
   ],
   "source": [
    "# Normalize entire batch.\n",
    "\n",
    "print_ms(norm.normalize_dict(batch))"
   ]
  },
  {
   "cell_type": "code",
   "execution_count": 15,
   "metadata": {},
   "outputs": [
    {
     "data": {
      "text/plain": [
       "{'x0': tensor([-1.7045,  1.1865, -2.2911,  0.0440, -0.0979, -0.1837, -0.3134,  0.0789,\n",
       "          0.5382,  0.1180,  1.6209, -1.4101,  3.0113, -0.9519,  0.1448,  0.9383]),\n",
       " 'x1': tensor([-0.0512, -1.2015,  0.4290, -0.0860,  0.3286, -1.2472,  2.7014,  0.4281,\n",
       "          0.0311, -1.1565,  0.3617, -1.8270,  1.2356, -0.1792,  0.3254,  0.5184])}"
      ]
     },
     "execution_count": 15,
     "metadata": {},
     "output_type": "execute_result"
    }
   ],
   "source": [
    "# Normalize a subset of variables in batch.\n",
    "\n",
    "norm.normalize_dict(batch, variables=['x0', 'x1'])"
   ]
  },
  {
   "cell_type": "code",
   "execution_count": 16,
   "metadata": {},
   "outputs": [
    {
     "data": {
      "text/plain": [
       "torch.Size([16, 2])"
      ]
     },
     "execution_count": 16,
     "metadata": {},
     "output_type": "execute_result"
    }
   ],
   "source": [
    "# Normalize a subset of variables in batch and stack along last dimension.\n",
    "\n",
    "x = norm.normalize_dict(batch, variables=['x0', 'x1'], return_stack=True)\n",
    "\n",
    "# The first dimension is the batch size, the second the two variables that we selected, x0 and x1.\n",
    "\n",
    "x.shape"
   ]
  }
 ],
 "metadata": {
  "kernelspec": {
   "display_name": "Python 3",
   "language": "python",
   "name": "python3"
  },
  "language_info": {
   "codemirror_mode": {
    "name": "ipython",
    "version": 3
   },
   "file_extension": ".py",
   "mimetype": "text/x-python",
   "name": "python",
   "nbconvert_exporter": "python",
   "pygments_lexer": "ipython3",
   "version": "3.8.5"
  }
 },
 "nbformat": 4,
 "nbformat_minor": 4
}
